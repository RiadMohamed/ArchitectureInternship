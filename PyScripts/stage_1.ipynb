{
 "cells": [
  {
   "cell_type": "code",
   "execution_count": 1,
   "metadata": {},
   "outputs": [],
   "source": [
    "import cv2\n",
    "import numpy as np\n",
    "import matplotlib.pyplot as plt\n",
    "from scipy.spatial import distance as dist\n",
    "from collections import OrderedDict"
   ]
  },
  {
   "cell_type": "code",
   "execution_count": 2,
   "metadata": {},
   "outputs": [],
   "source": [
    "# Class for color detection\n",
    "class ColorLabeler:\n",
    "    def __init__(self):\n",
    "        # initialize the colors dictionary, containing the color\n",
    "        # name as the key and the RGB tuple as the value\n",
    "        colors = OrderedDict({\n",
    "            \"red\": (255, 0, 0),\n",
    "            \"green\": (0, 255, 0),\n",
    "            \"blue\": (0, 0, 255)})\n",
    "\n",
    "        # allocate memory for the L*a*b* image, then initialize\n",
    "        # the color names list\n",
    "        self.lab = np.zeros((len(colors), 1, 3), dtype=\"uint8\")\n",
    "        self.colorNames = []\n",
    "\n",
    "        # loop over the colors dictionary\n",
    "        for (i, (name, rgb)) in enumerate(colors.items()):\n",
    "            # update the L*a*b* array and the color names list\n",
    "            self.lab[i] = rgb\n",
    "            self.colorNames.append(name)\n",
    "\n",
    "        # convert the L*a*b* array from the RGB color space\n",
    "        # to L*a*b*\n",
    "        self.lab = cv2.cvtColor(self.lab, cv2.COLOR_RGB2LAB)\n",
    "\n",
    "    def label(self, image, c):\n",
    "        # construct a mask for the contour, then compute the\n",
    "        # average L*a*b* value for the masked region\n",
    "        mask = np.zeros(image.shape[:2], dtype=\"uint8\")\n",
    "        cv2.drawContours(mask, [c], -1, 255, -1)\n",
    "        mask = cv2.erode(mask, None, iterations=2)\n",
    "        mean = cv2.mean(image, mask=mask)[:3]\n",
    "\n",
    "        # initialize the minimum distance found thus far\n",
    "        minDist = (np.inf, None)\n",
    "\n",
    "        # loop over the known L*a*b* color values\n",
    "        for (i, row) in enumerate(self.lab):\n",
    "            # compute the distance between the current L*a*b*\n",
    "            # color value and the mean of the image\n",
    "            d = dist.euclidean(row[0], mean)\n",
    "\n",
    "            # if the distance is smaller than the current distance,\n",
    "            # then update the bookkeeping variable\n",
    "            if d < minDist[0]:\n",
    "                minDist = (d, i)\n",
    "\n",
    "        # return the name of the color with the smallest distance\n",
    "        return self.colorNames[minDist[1]]"
   ]
  },
  {
   "cell_type": "code",
   "execution_count": 3,
   "metadata": {},
   "outputs": [
    {
     "data": {
      "text/plain": [
       "<matplotlib.image.AxesImage at 0x170644c5b48>"
      ]
     },
     "execution_count": 3,
     "metadata": {},
     "output_type": "execute_result"
    },
    {
     "data": {
      "image/png": "[encoded data removed]",
      "text/plain": [
       "<Figure size 432x288 with 1 Axes>"
      ]
     },
     "metadata": {
      "needs_background": "light"
     },
     "output_type": "display_data"
    }
   ],
   "source": [
    "print_im = plt.imread(\"Top.jpg\")\n",
    "plt.imshow(print_im) "
   ]
  },
  {
   "cell_type": "code",
   "execution_count": 4,
   "metadata": {},
   "outputs": [],
   "source": [
    "BGR_image = cv2.imread(\"Top.jpg\")\n",
    "width = BGR_image.shape[0]\n",
    "height = BGR_image.shape[1]\n",
    "cl = ColorLabeler()"
   ]
  },
  {
   "cell_type": "code",
   "execution_count": 5,
   "metadata": {
    "scrolled": true
   },
   "outputs": [],
   "source": [
    "# function for segmentation of cubes\n",
    "def mask(image):\n",
    "    # mask of red  \n",
    "    mask1 = cv2.inRange(image, (20, 0, 90), (45, 0, 200))\n",
    "\n",
    "    # mask o green  \n",
    "    mask2 = cv2.inRange(image, (0, 70, 0), (0, 170, 0))\n",
    "    \n",
    "    # mask o blue  \n",
    "    mask3 = cv2.inRange(image, (155, 50, 0), (255, 120, 55))\n",
    "\n",
    "    # final mask and masked\n",
    "    mask = cv2.bitwise_or(mask1, mask2)\n",
    "    total = cv2.bitwise_or(mask, mask3)\n",
    "\n",
    "    target = cv2.bitwise_and(image,image, mask=total)\n",
    "    \n",
    "    return target"
   ]
  },
  {
   "cell_type": "code",
   "execution_count": 6,
   "metadata": {},
   "outputs": [],
   "source": [
    "image = mask(BGR_image)\n",
    "\n",
    "# gray image for masked image \n",
    "gray = cv2.cvtColor(image, cv2.COLOR_BGR2GRAY)\n",
    "# lab image for masked image \n",
    "lab = cv2.cvtColor(image, cv2.COLOR_BGR2LAB)"
   ]
  },
  {
   "cell_type": "code",
   "execution_count": 66,
   "metadata": {},
   "outputs": [],
   "source": [
    "# function for final output\n",
    "def info(gray_image):\n",
    "    boxes = []\n",
    "    # convert the grayscale image to binary image\n",
    "    ret,thresh = cv2.threshold(gray_image,10,255,0)\n",
    "    # find contours in the binary image\n",
    "    im2, contours, hierarchy = cv2.findContours(thresh,cv2.RETR_TREE,cv2.CHAIN_APPROX_SIMPLE)\n",
    "    for c in contours:\n",
    "        cX = 0\n",
    "        cY = 0\n",
    "        cZ = 0\n",
    "        # calculate moments for each contour\n",
    "        M = cv2.moments(c)\n",
    "        if(abs(width - height) < 10):\n",
    "            # calculate x,y coordinate of center\n",
    "            cX = int(M[\"m10\"] / M[\"m00\"])\n",
    "            cY = int(M[\"m01\"] / M[\"m00\"])\n",
    "            \n",
    "        else:\n",
    "            # calculate x,z coordinate of center\n",
    "            cX = int(M[\"m10\"] / M[\"m00\"])\n",
    "            cZ = int(M[\"m01\"] / M[\"m00\"])\n",
    "        \n",
    "        point = (cX, cY, cZ)\n",
    "        col, row = location(point)\n",
    "        \n",
    "        color = cl.label(lab, c)\n",
    "        box = (point , color , (col, row))\n",
    "        boxes.append(box)\n",
    "        \n",
    "    boxes.sort()    \n",
    "    return boxes"
   ]
  },
  {
   "cell_type": "code",
   "execution_count": 67,
   "metadata": {},
   "outputs": [],
   "source": [
    "def location(point):\n",
    "    col = int(np.floor(point[0] / 80) + 1)\n",
    "    if(point[2] == 0):\n",
    "        row = int(np.floor(point[1] / 80) + 1)\n",
    "    else:\n",
    "        row = int(np.floor(point[2] / 80) + 1)\n",
    "    return col, row"
   ]
  },
  {
   "cell_type": "code",
   "execution_count": 68,
   "metadata": {},
   "outputs": [
    {
     "data": {
      "text/plain": [
       "[((45, 46, 0), 'green', (1, 1)),\n",
       " ((45, 208, 0), 'red', (1, 3)),\n",
       " ((45, 369, 0), 'green', (1, 5)),\n",
       " ((45, 529, 0), 'red', (1, 7)),\n",
       " ((206, 46, 0), 'blue', (3, 1)),\n",
       " ((206, 208, 0), 'blue', (3, 3)),\n",
       " ((206, 369, 0), 'red', (3, 5)),\n",
       " ((206, 529, 0), 'green', (3, 7)),\n",
       " ((368, 46, 0), 'green', (5, 1)),\n",
       " ((368, 208, 0), 'red', (5, 3)),\n",
       " ((368, 369, 0), 'blue', (5, 5)),\n",
       " ((368, 529, 0), 'blue', (5, 7)),\n",
       " ((529, 46, 0), 'red', (7, 1)),\n",
       " ((529, 208, 0), 'blue', (7, 3)),\n",
       " ((529, 369, 0), 'green', (7, 5)),\n",
       " ((529, 529, 0), 'red', (7, 7))]"
      ]
     },
     "execution_count": 68,
     "metadata": {},
     "output_type": "execute_result"
    }
   ],
   "source": [
    "#final data structure list of tuples\n",
    "info(gray)"
   ]
  },
  {
   "cell_type": "code",
   "execution_count": null,
   "metadata": {},
   "outputs": [],
   "source": []
  }
 ],
 "metadata": {
  "kernelspec": {
   "display_name": "Python 3",
   "language": "python",
   "name": "python3"
  },
  "language_info": {
   "codemirror_mode": {
    "name": "ipython",
    "version": 3
   },
   "file_extension": ".py",
   "mimetype": "text/x-python",
   "name": "python",
   "nbconvert_exporter": "python",
   "pygments_lexer": "ipython3",
   "version": "3.7.4"
  }
 },
 "nbformat": 4,
 "nbformat_minor": 2
}
