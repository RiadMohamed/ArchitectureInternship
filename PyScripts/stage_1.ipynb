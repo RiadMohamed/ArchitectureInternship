{
 "cells": [
  {
   "cell_type": "code",
   "execution_count": 43,
   "metadata": {},
   "outputs": [],
   "source": [
    "import cv2\n",
    "import numpy as np\n",
    "import matplotlib.pyplot as plt"
   ]
  },
  {
   "cell_type": "code",
   "execution_count": 44,
   "metadata": {},
   "outputs": [],
   "source": [
    "BGR_image = cv2.imread(\"Top.jpg\")\n",
    "image = cv2.cvtColor(BGR_image, cv2.COLOR_BGR2RGB)"
   ]
  },
  {
   "cell_type": "code",
   "execution_count": 45,
   "metadata": {},
   "outputs": [],
   "source": [
    "# define the lists of boundaries\n",
    "red_boundaries = [([90, 0, 20], [200, 0, 45])]\n",
    "green_boundaries = [([0, 70, 0], [0, 170, 0])]\n",
    "blue_boundaries = [([0, 50, 155], [55, 120, 255])]"
   ]
  },
  {
   "cell_type": "code",
   "execution_count": 46,
   "metadata": {
    "scrolled": true
   },
   "outputs": [],
   "source": [
    "def color(image, boundaries):\n",
    "    # loop over the boundaries\n",
    "    for (lower, upper) in boundaries:\n",
    "        # create NumPy arrays from the boundaries\n",
    "        lower = np.array(lower, dtype = \"uint8\")\n",
    "        upper = np.array(upper, dtype = \"uint8\")\n",
    "\n",
    "        # find the colors within the specified boundaries and apply\n",
    "        # the mask\n",
    "        mask = cv2.inRange(image, lower, upper)\n",
    "        output = cv2.bitwise_and(image, image, mask = mask)\n",
    "        \n",
    "    return output"
   ]
  },
  {
   "cell_type": "code",
   "execution_count": 47,
   "metadata": {},
   "outputs": [
    {
     "data": {
      "text/plain": [
       "<matplotlib.image.AxesImage at 0x20a18fe2f08>"
      ]
     },
     "execution_count": 47,
     "metadata": {},
     "output_type": "execute_result"
    },
    {
     "data": {
      "image/png": "[encoded data removed]",
      "text/plain": [
       "<Figure size 432x288 with 1 Axes>"
      ]
     },
     "metadata": {
      "needs_background": "light"
     },
     "output_type": "display_data"
    }
   ],
   "source": [
    "red_im = color(image,red_boundaries)\n",
    "# convert image to grayscale image\n",
    "gray_red = cv2.cvtColor(red_im, cv2.COLOR_RGB2GRAY)\n",
    "plt.imshow(red_im)"
   ]
  },
  {
   "cell_type": "code",
   "execution_count": 48,
   "metadata": {},
   "outputs": [
    {
     "data": {
      "text/plain": [
       "<matplotlib.image.AxesImage at 0x20a19171a48>"
      ]
     },
     "execution_count": 48,
     "metadata": {},
     "output_type": "execute_result"
    },
    {
     "data": {
      "image/png": "[encoded data removed]",
      "text/plain": [
       "<Figure size 432x288 with 1 Axes>"
      ]
     },
     "metadata": {
      "needs_background": "light"
     },
     "output_type": "display_data"
    }
   ],
   "source": [
    "blue_im = color(image,blue_boundaries)\n",
    "gray_blue = cv2.cvtColor(blue_im, cv2.COLOR_RGB2GRAY)\n",
    "plt.imshow(blue_im)"
   ]
  },
  {
   "cell_type": "code",
   "execution_count": 49,
   "metadata": {},
   "outputs": [
    {
     "data": {
      "text/plain": [
       "<matplotlib.image.AxesImage at 0x20a16dcd2c8>"
      ]
     },
     "execution_count": 49,
     "metadata": {},
     "output_type": "execute_result"
    },
    {
     "data": {
      "image/png": "[encoded data removed]",
      "text/plain": [
       "<Figure size 432x288 with 1 Axes>"
      ]
     },
     "metadata": {
      "needs_background": "light"
     },
     "output_type": "display_data"
    }
   ],
   "source": [
    "green_im = color(image,green_boundaries)\n",
    "gray_green = cv2.cvtColor(green_im, cv2.COLOR_RGB2GRAY)\n",
    "plt.imshow(green_im)"
   ]
  },
  {
   "cell_type": "code",
   "execution_count": 59,
   "metadata": {},
   "outputs": [],
   "source": [
    "def blob(gray_image):\n",
    "    # convert the grayscale image to binary image\n",
    "    ret,thresh = cv2.threshold(gray_image,10,255,0)\n",
    " \n",
    "    # find contours in the binary image\n",
    "    im2, contours, hierarchy = cv2.findContours(thresh,cv2.RETR_TREE,cv2.CHAIN_APPROX_SIMPLE)\n",
    "    for c in contours:\n",
    "        # calculate moments for each contour\n",
    "        M = cv2.moments(c)\n",
    "\n",
    "        # calculate x,y coordinate of center\n",
    "        cX = int(M[\"m10\"] / M[\"m00\"])\n",
    "        cY = int(M[\"m01\"] / M[\"m00\"])\n",
    "\n",
    "        print(\"X: \", cX ,\"Y:\", cY)"
   ]
  },
  {
   "cell_type": "code",
   "execution_count": 61,
   "metadata": {},
   "outputs": [
    {
     "name": "stdout",
     "output_type": "stream",
     "text": [
      "X:  529 Y: 529\n",
      "X:  45 Y: 529\n",
      "X:  206 Y: 369\n",
      "X:  368 Y: 208\n",
      "X:  45 Y: 208\n",
      "X:  529 Y: 46\n"
     ]
    }
   ],
   "source": [
    "blob(gray_red)"
   ]
  },
  {
   "cell_type": "code",
   "execution_count": 62,
   "metadata": {},
   "outputs": [
    {
     "name": "stdout",
     "output_type": "stream",
     "text": [
      "X:  368 Y: 529\n",
      "X:  368 Y: 369\n",
      "X:  529 Y: 208\n",
      "X:  206 Y: 208\n",
      "X:  206 Y: 46\n"
     ]
    }
   ],
   "source": [
    "blob(gray_blue)"
   ]
  },
  {
   "cell_type": "code",
   "execution_count": 63,
   "metadata": {},
   "outputs": [
    {
     "name": "stdout",
     "output_type": "stream",
     "text": [
      "X:  206 Y: 529\n",
      "X:  529 Y: 369\n",
      "X:  45 Y: 369\n",
      "X:  368 Y: 46\n",
      "X:  45 Y: 46\n"
     ]
    }
   ],
   "source": [
    "blob(gray_green)"
   ]
  },
  {
   "cell_type": "code",
   "execution_count": null,
   "metadata": {},
   "outputs": [],
   "source": []
  }
 ],
 "metadata": {
  "kernelspec": {
   "display_name": "Python 3",
   "language": "python",
   "name": "python3"
  },
  "language_info": {
   "codemirror_mode": {
    "name": "ipython",
    "version": 3
   },
   "file_extension": ".py",
   "mimetype": "text/x-python",
   "name": "python",
   "nbconvert_exporter": "python",
   "pygments_lexer": "ipython3",
   "version": "3.7.4"
  }
 },
 "nbformat": 4,
 "nbformat_minor": 2
}
